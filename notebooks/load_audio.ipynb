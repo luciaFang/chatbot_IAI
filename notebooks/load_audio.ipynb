{
 "cells": [
  {
   "cell_type": "markdown",
   "source": [
    "### Go through all candor files"
   ],
   "metadata": {
    "collapsed": false
   }
  },
  {
   "cell_type": "code",
   "execution_count": 1,
   "outputs": [],
   "source": [
    "import os\n",
    "import pandas as pd\n",
    "import numpy as np\n",
    "from tqdm import notebook"
   ],
   "metadata": {
    "collapsed": false,
    "ExecuteTime": {
     "end_time": "2023-06-20T22:59:56.829702Z",
     "start_time": "2023-06-20T22:59:56.818351Z"
    }
   }
  },
  {
   "cell_type": "code",
   "execution_count": 2,
   "outputs": [
    {
     "name": "stdout",
     "output_type": "stream",
     "text": [
      "../candor\n"
     ]
    }
   ],
   "source": [
    "rootdir = '../candor'\n",
    "print(rootdir)"
   ],
   "metadata": {
    "collapsed": false,
    "ExecuteTime": {
     "end_time": "2023-06-20T22:59:57.946010Z",
     "start_time": "2023-06-20T22:59:57.937839Z"
    }
   }
  },
  {
   "cell_type": "code",
   "execution_count": 3,
   "outputs": [
    {
     "data": {
      "text/plain": "0it [00:00, ?it/s]",
      "application/vnd.jupyter.widget-view+json": {
       "version_major": 2,
       "version_minor": 0,
       "model_id": "57864d54169d4656a7f942523c8f3aa0"
      }
     },
     "metadata": {},
     "output_type": "display_data"
    }
   ],
   "source": [
    "features = []\n",
    "for subdir, dirs, files in notebook.tqdm(os.walk(rootdir)):\n",
    "    for file in files:\n",
    "        if file==\"audio_video_features.csv\":\n",
    "            current_csv = pd.read_csv(os.path.join(subdir, file))\n",
    "            features.append(current_csv)"
   ],
   "metadata": {
    "collapsed": false,
    "ExecuteTime": {
     "end_time": "2023-06-20T23:00:39.503240Z",
     "start_time": "2023-06-20T22:59:59.367009Z"
    }
   }
  },
  {
   "cell_type": "code",
   "execution_count": 4,
   "outputs": [
    {
     "data": {
      "text/plain": "Index(['timedelta', 'user_id', 'f0', 'intensity', 'jitter', 'log_energy',\n       'mfcc_0', 'mfcc_1', 'mfcc_10', 'mfcc_11', 'mfcc_12', 'mfcc_13',\n       'mfcc_14', 'mfcc_15', 'mfcc_16', 'mfcc_17', 'mfcc_18', 'mfcc_19',\n       'mfcc_2', 'mfcc_3', 'mfcc_4', 'mfcc_5', 'mfcc_6', 'mfcc_7', 'mfcc_8',\n       'mfcc_9', 'onset_strength', 'poly_features_0', 'poly_features_1',\n       'shimmer', 'spectral_bandwidth', 'spectral_centroid',\n       'spectral_contrast_0', 'spectral_contrast_1', 'spectral_contrast_2',\n       'spectral_contrast_3', 'spectral_contrast_4', 'spectral_contrast_5',\n       'spectral_contrast_6', 'spectral_flatness', 'spectral_rolloff',\n       'zero_crossing_rate', 'gaze_on', 'nod_no', 'nod_yes', 'prob_face_anger',\n       'prob_face_contempt', 'prob_face_disgust', 'prob_face_fear',\n       'prob_face_happiness', 'prob_face_neutral', 'prob_face_sadness',\n       'prob_face_surprise', 'smile', 'is_speaking'],\n      dtype='object')"
     },
     "execution_count": 4,
     "metadata": {},
     "output_type": "execute_result"
    }
   ],
   "source": [
    "features[1].columns"
   ],
   "metadata": {
    "collapsed": false,
    "ExecuteTime": {
     "end_time": "2023-06-20T23:00:49.293037Z",
     "start_time": "2023-06-20T23:00:49.285806Z"
    }
   }
  },
  {
   "cell_type": "markdown",
   "source": [
    "## filter features"
   ],
   "metadata": {
    "collapsed": false
   }
  },
  {
   "cell_type": "code",
   "execution_count": 8,
   "outputs": [
    {
     "data": {
      "text/plain": "  0%|          | 0/1656 [00:00<?, ?it/s]",
      "application/vnd.jupyter.widget-view+json": {
       "version_major": 2,
       "version_minor": 0,
       "model_id": "ffb1bc586db7472fbdd42d458c50eac4"
      }
     },
     "metadata": {},
     "output_type": "display_data"
    }
   ],
   "source": [
    "features_of_interest = ['prob_face_anger','prob_face_contempt', 'prob_face_disgust', 'prob_face_fear','prob_face_happiness', 'prob_face_neutral', 'prob_face_sadness','prob_face_surprise',]\n",
    "\n",
    "filtered_fList = []\n",
    "for i, feature in enumerate(notebook.tqdm(features)):\n",
    "    filtered_f = []\n",
    "    for fes in features_of_interest:\n",
    "        filtered_f.append(feature[fes])\n",
    "    filtered_fList.append(np.vstack(filtered_f).T)"
   ],
   "metadata": {
    "collapsed": false,
    "ExecuteTime": {
     "end_time": "2023-06-20T23:02:58.703198Z",
     "start_time": "2023-06-20T23:02:58.528674Z"
    }
   }
  },
  {
   "cell_type": "code",
   "execution_count": 6,
   "outputs": [
    {
     "data": {
      "text/plain": "1656"
     },
     "execution_count": 6,
     "metadata": {},
     "output_type": "execute_result"
    }
   ],
   "source": [
    "len(filtered_fList)"
   ],
   "metadata": {
    "collapsed": false,
    "ExecuteTime": {
     "end_time": "2023-06-20T23:01:34.015153Z",
     "start_time": "2023-06-20T23:01:34.008944Z"
    }
   }
  },
  {
   "cell_type": "code",
   "execution_count": 16,
   "outputs": [
    {
     "name": "stdout",
     "output_type": "stream",
     "text": [
      "[[           nan            nan            nan            nan\n",
      "             nan            nan            nan            nan]\n",
      " [3.46887943e-02 2.86094393e-02 9.58345426e-02 2.69615085e-02\n",
      "  3.42279965e-01 2.05808483e-01 2.43384197e-01 2.24330662e-02]\n",
      " [           nan            nan            nan            nan\n",
      "             nan            nan            nan            nan]\n",
      " [4.02463024e-02 8.33346329e-03 1.59833773e-03 1.07305497e-01\n",
      "  3.04197038e-03 3.71877885e-01 4.27480102e-01 4.01164227e-02]\n",
      " [           nan            nan            nan            nan\n",
      "             nan            nan            nan            nan]\n",
      " [4.78478434e-02 8.58894126e-03 1.96569327e-03 6.79326618e-02\n",
      "  3.14236352e-03 4.88599399e-01 3.53952652e-01 2.79704338e-02]\n",
      " [           nan            nan            nan            nan\n",
      "             nan            nan            nan            nan]\n",
      " [3.37141490e-02 4.44003451e-03 1.05878903e-03 1.61903714e-02\n",
      "  1.27935882e-03 4.19323811e-01 5.13788784e-01 1.02046682e-02]\n",
      " [           nan            nan            nan            nan\n",
      "             nan            nan            nan            nan]\n",
      " [3.42817627e-02 9.91771258e-03 1.37356265e-03 4.51681017e-03\n",
      "  4.50051001e-03 5.32079282e-01 4.05696663e-01 7.63370902e-03]\n",
      " [           nan            nan            nan            nan\n",
      "             nan            nan            nan            nan]\n",
      " [1.44344588e-01 1.92742527e-02 3.67765352e-03 5.71619815e-03\n",
      "  6.35221356e-03 5.28430215e-01 2.86681160e-01 5.52376190e-03]\n",
      " [           nan            nan            nan            nan\n",
      "             nan            nan            nan            nan]\n",
      " [1.72792636e-01 6.41709797e-02 8.96562408e-03 7.18464036e-03\n",
      "  2.52192192e-02 5.03793234e-01 2.10611492e-01 7.26215579e-03]\n",
      " [           nan            nan            nan            nan\n",
      "             nan            nan            nan            nan]\n",
      " [2.05270688e-01 3.98298034e-02 9.80170849e-03 8.29989039e-03\n",
      "  1.30064925e-02 4.62254664e-01 2.55847381e-01 5.68936220e-03]\n",
      " [           nan            nan            nan            nan\n",
      "             nan            nan            nan            nan]\n",
      " [1.91031019e-01 2.89440751e-02 9.79420966e-03 1.39958479e-02\n",
      "  1.01953760e-02 5.21803689e-01 2.11332580e-01 1.29032260e-02]\n",
      " [           nan            nan            nan            nan\n",
      "             nan            nan            nan            nan]\n",
      " [1.95955884e-01 2.71373174e-02 7.97450887e-03 1.45766571e-02\n",
      "  7.98684132e-03 5.07391191e-01 2.25278471e-01 1.36991231e-02]\n",
      " [           nan            nan            nan            nan\n",
      "             nan            nan            nan            nan]\n",
      " [2.98887610e-01 2.35524129e-02 5.32811682e-03 3.28403224e-03\n",
      "  3.64050817e-03 4.81644696e-01 1.80414437e-01 3.24818635e-03]\n",
      " [           nan            nan            nan            nan\n",
      "             nan            nan            nan            nan]\n",
      " [1.25723072e-01 1.44720082e-01 7.67892668e-02 4.01211975e-02\n",
      "  1.39286797e-01 2.89738572e-01 1.19576022e-01 6.40450143e-02]\n",
      " [           nan            nan            nan            nan\n",
      "             nan            nan            nan            nan]\n",
      " [9.33152242e-02 9.41554918e-02 9.81438653e-02 5.26866603e-02\n",
      "  1.58135514e-01 1.90850899e-01 2.67002285e-01 4.57100812e-02]\n",
      " [           nan            nan            nan            nan\n",
      "             nan            nan            nan            nan]\n",
      " [3.51072172e-02 1.34988623e-01 1.71474013e-02 4.32486398e-03\n",
      "  3.22359306e-01 2.73271549e-01 2.04997230e-01 7.80380210e-03]\n",
      " [           nan            nan            nan            nan\n",
      "             nan            nan            nan            nan]\n",
      " [1.31291474e-02 5.80515438e-02 1.79994727e-02 5.81052046e-02\n",
      "  2.84775797e-01 1.67907957e-01 3.36232769e-01 6.37980990e-02]\n",
      " [           nan            nan            nan            nan\n",
      "             nan            nan            nan            nan]\n",
      " [5.74819887e-02 2.83661210e-02 3.83710405e-01 5.58116188e-02\n",
      "  1.18945824e-01 6.30475668e-02 2.42966367e-01 4.96700916e-02]\n",
      " [           nan            nan            nan            nan\n",
      "             nan            nan            nan            nan]\n",
      " [1.88431438e-02 2.55997435e-02 1.55677192e-01 8.53183361e-03\n",
      "  7.20496187e-01 1.96202622e-02 3.73109412e-02 1.39207032e-02]\n",
      " [           nan            nan            nan            nan\n",
      "             nan            nan            nan            nan]\n",
      " [4.97691196e-02 8.25067110e-02 9.32313019e-02 8.17481573e-03\n",
      "  4.99953329e-01 1.32713794e-01 9.76832902e-02 3.59676737e-02]\n",
      " [2.60718568e-02 4.38831339e-02 8.91534897e-03 1.15836658e-02\n",
      "  6.76445484e-01 1.44807751e-01 1.31194414e-02 7.51733272e-02]\n",
      " [2.58800439e-02 3.53450666e-02 1.22150579e-01 2.47433964e-03\n",
      "  6.88614508e-01 6.15809325e-02 5.98875998e-02 4.06696368e-03]\n",
      " [1.84263253e-03 2.35179733e-02 1.87831697e-03 5.38637978e-04\n",
      "  9.50245953e-01 1.57505251e-02 3.41690858e-03 2.80905331e-03]\n",
      " [2.95379931e-03 1.75918354e-02 2.21389090e-02 4.41869152e-04\n",
      "  9.48747575e-01 3.20105382e-03 3.22790903e-03 1.69704624e-03]\n",
      " [9.94364409e-04 7.08305200e-03 5.77926341e-04 9.85678667e-04\n",
      "  9.36946803e-01 3.87416998e-03 6.56674744e-04 4.88813385e-02]\n",
      " [1.77888669e-02 6.40693347e-02 4.20000133e-02 1.41523095e-03\n",
      "  6.98180331e-01 5.27577979e-02 1.21877238e-01 1.91119681e-03]\n",
      " [9.57155289e-04 3.37507161e-03 1.57426525e-03 5.32953118e-04\n",
      "  9.78925842e-01 1.20816482e-03 4.81665299e-04 1.29448664e-02]\n",
      " [3.06775342e-02 6.36720653e-02 3.27821653e-02 6.61238228e-03\n",
      "  5.07805720e-01 8.70358497e-02 2.68944367e-01 2.46990414e-03]\n",
      " [6.36587589e-04 9.34604772e-03 7.99587421e-04 5.71958661e-04\n",
      "  9.49202329e-01 2.02847381e-03 2.88938788e-04 3.71261123e-02]\n",
      " [3.00698757e-02 8.29803335e-02 5.53873303e-02 2.43270104e-03\n",
      "  3.65407225e-01 6.82644578e-02 3.94672182e-01 7.85875073e-04]\n",
      " [1.71352213e-03 1.25394335e-02 2.06001837e-03 8.56109109e-04\n",
      "  9.44579476e-01 4.34794666e-03 5.86959522e-04 3.33165431e-02]\n",
      " [2.63751578e-02 9.47303073e-02 1.80501909e-02 1.38198433e-03\n",
      "  3.62953685e-01 6.87368913e-02 4.27052386e-01 7.19434232e-04]\n",
      " [1.29873416e-03 1.19767996e-02 1.94819152e-03 6.72819892e-04\n",
      "  9.63810432e-01 2.74936703e-03 7.06863886e-04 1.68367865e-02]\n",
      " [5.26468311e-02 1.07851520e-01 7.19350394e-02 2.25123062e-03\n",
      "  3.13640207e-01 8.13103165e-02 3.69671281e-01 6.93566515e-04]]\n"
     ]
    }
   ],
   "source": [
    "print(filtered_fList[1][:50,:])"
   ],
   "metadata": {
    "collapsed": false,
    "ExecuteTime": {
     "end_time": "2023-06-20T23:06:49.788585Z",
     "start_time": "2023-06-20T23:06:49.783479Z"
    }
   }
  },
  {
   "cell_type": "markdown",
   "source": [
    "### filter all nan"
   ],
   "metadata": {
    "collapsed": false
   }
  },
  {
   "cell_type": "code",
   "execution_count": 24,
   "outputs": [
    {
     "name": "stdout",
     "output_type": "stream",
     "text": [
      "(3283, 8)\n"
     ]
    }
   ],
   "source": [
    "filtered_all_nan = filtered_fList[1][~np.isnan(filtered_fList[1][:,0]),:]\n",
    "print(filtered_all_nan.shape)"
   ],
   "metadata": {
    "collapsed": false,
    "ExecuteTime": {
     "end_time": "2023-06-20T23:15:57.316989Z",
     "start_time": "2023-06-20T23:15:57.309900Z"
    }
   }
  },
  {
   "cell_type": "code",
   "execution_count": 30,
   "outputs": [
    {
     "ename": "SyntaxError",
     "evalue": "invalid syntax (3766329393.py, line 1)",
     "output_type": "error",
     "traceback": [
      "\u001B[0;36m  Cell \u001B[0;32mIn[30], line 1\u001B[0;36m\u001B[0m\n\u001B[0;31m    print(~np.isnan(filtered_fList[1][:,0]),:)\u001B[0m\n\u001B[0m                                            ^\u001B[0m\n\u001B[0;31mSyntaxError\u001B[0m\u001B[0;31m:\u001B[0m invalid syntax\n"
     ]
    }
   ],
   "source": [
    "print(~np.isnan(filtered_fList[1][:,0]))"
   ],
   "metadata": {
    "collapsed": false,
    "ExecuteTime": {
     "end_time": "2023-06-20T23:18:20.535390Z",
     "start_time": "2023-06-20T23:18:20.531660Z"
    }
   }
  },
  {
   "cell_type": "markdown",
   "source": [],
   "metadata": {
    "collapsed": false
   }
  }
 ],
 "metadata": {
  "kernelspec": {
   "display_name": "Python 3",
   "language": "python",
   "name": "python3"
  },
  "language_info": {
   "codemirror_mode": {
    "name": "ipython",
    "version": 2
   },
   "file_extension": ".py",
   "mimetype": "text/x-python",
   "name": "python",
   "nbconvert_exporter": "python",
   "pygments_lexer": "ipython2",
   "version": "2.7.6"
  }
 },
 "nbformat": 4,
 "nbformat_minor": 0
}
