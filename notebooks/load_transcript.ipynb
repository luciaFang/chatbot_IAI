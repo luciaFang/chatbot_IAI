{
 "cells": [
  {
   "cell_type": "markdown",
   "source": [
    "### Go through all candor files"
   ],
   "metadata": {
    "collapsed": false
   }
  },
  {
   "cell_type": "code",
   "execution_count": 1,
   "outputs": [],
   "source": [
    "import os\n",
    "import pandas as pd\n",
    "import numpy as np\n",
    "from tqdm import notebook"
   ],
   "metadata": {
    "collapsed": false,
    "ExecuteTime": {
     "end_time": "2023-06-20T11:02:12.498654Z",
     "start_time": "2023-06-20T11:02:12.203574Z"
    }
   }
  },
  {
   "cell_type": "code",
   "execution_count": 2,
   "outputs": [
    {
     "name": "stdout",
     "output_type": "stream",
     "text": [
      "../candor\n"
     ]
    }
   ],
   "source": [
    "rootdir = '../candor'\n",
    "print(rootdir)"
   ],
   "metadata": {
    "collapsed": false,
    "ExecuteTime": {
     "end_time": "2023-06-20T11:02:20.126795Z",
     "start_time": "2023-06-20T11:02:20.123180Z"
    }
   }
  },
  {
   "cell_type": "code",
   "execution_count": 4,
   "outputs": [
    {
     "data": {
      "text/plain": "0it [00:00, ?it/s]",
      "application/vnd.jupyter.widget-view+json": {
       "version_major": 2,
       "version_minor": 0,
       "model_id": "5e48f9dd6c7b4a7b887fb567cb94b115"
      }
     },
     "metadata": {},
     "output_type": "display_data"
    }
   ],
   "source": [
    "transcript = []\n",
    "for subdir, dirs, files in notebook.tqdm(os.walk(rootdir)):\n",
    "    for file in files:\n",
    "        if file==\"transcript_backbiter.csv\":\n",
    "            current_csv = pd.read_csv(os.path.join(subdir, file))\n",
    "            transcript.append(current_csv)"
   ],
   "metadata": {
    "collapsed": false,
    "ExecuteTime": {
     "end_time": "2023-06-20T11:03:17.584518Z",
     "start_time": "2023-06-20T11:03:14.779550Z"
    }
   }
  },
  {
   "cell_type": "code",
   "execution_count": 8,
   "outputs": [
    {
     "data": {
      "text/plain": "0                        Thank you. No. All right. Doing\n1                                  I'm good. How are you\n2                          good good. My name is robert.\n3                                   robert and Michelle.\n4                                      Nice to meet you.\n                             ...                        \n195    it's more of the net, it's more of a set a set...\n196                                                 and.\n197    But so one thing and I have not kept up with i...\n198                                                 huh.\n199    You just earned, you earn like points or coins...\nName: utterance, Length: 200, dtype: object"
     },
     "execution_count": 8,
     "metadata": {},
     "output_type": "execute_result"
    }
   ],
   "source": [
    "transcript[1][\"utterance\"]"
   ],
   "metadata": {
    "collapsed": false,
    "ExecuteTime": {
     "end_time": "2023-06-20T11:05:03.022865Z",
     "start_time": "2023-06-20T11:05:03.018996Z"
    }
   }
  },
  {
   "cell_type": "markdown",
   "source": [
    "## filter speaker1 vs speaker2"
   ],
   "metadata": {
    "collapsed": false
   }
  },
  {
   "cell_type": "code",
   "execution_count": 12,
   "outputs": [],
   "source": [
    "speaker1, speaker2 = transcript[1][\"speaker\"].unique()"
   ],
   "metadata": {
    "collapsed": false,
    "ExecuteTime": {
     "end_time": "2023-06-20T11:07:28.046891Z",
     "start_time": "2023-06-20T11:07:28.043205Z"
    }
   }
  },
  {
   "cell_type": "code",
   "execution_count": 14,
   "outputs": [
    {
     "data": {
      "text/plain": "('5f220462c16ecb68c97ccad9', '55a43cf3fdf99b02ff6cb0b4')"
     },
     "execution_count": 14,
     "metadata": {},
     "output_type": "execute_result"
    }
   ],
   "source": [
    "speaker1, speaker2"
   ],
   "metadata": {
    "collapsed": false,
    "ExecuteTime": {
     "end_time": "2023-06-20T11:07:43.751220Z",
     "start_time": "2023-06-20T11:07:43.746687Z"
    }
   }
  },
  {
   "cell_type": "code",
   "execution_count": 16,
   "outputs": [
    {
     "data": {
      "text/plain": "0                        Thank you. No. All right. Doing\n2                          good good. My name is robert.\n4                                      Nice to meet you.\n6      Yeah how are you? Part of also participant in ...\n8                                                 I mean\n                             ...                        \n190                                                 mean\n192    uh so where the, so so besides any proof if yo...\n194                                      what's that bad\n196                                                 and.\n198                                                 huh.\nName: utterance, Length: 100, dtype: object"
     },
     "execution_count": 16,
     "metadata": {},
     "output_type": "execute_result"
    }
   ],
   "source": [
    "transcript[1][\"utterance\"][transcript[1][\"speaker\"]==speaker1]"
   ],
   "metadata": {
    "collapsed": false,
    "ExecuteTime": {
     "end_time": "2023-06-20T11:09:35.265663Z",
     "start_time": "2023-06-20T11:09:35.261915Z"
    }
   }
  },
  {
   "cell_type": "code",
   "execution_count": 17,
   "outputs": [
    {
     "data": {
      "text/plain": "1                                  I'm good. How are you\n3                                   robert and Michelle.\n5      It might also meet my dog because anytime I st...\n7      Yeah, I do. Um, I tried, I don't know. It vari...\n9                                   do as many as I can.\n                             ...                        \n191                                               ahead.\n193    Um So let's see. I don't remember other places...\n195    it's more of the net, it's more of a set a set...\n197    But so one thing and I have not kept up with i...\n199    You just earned, you earn like points or coins...\nName: utterance, Length: 100, dtype: object"
     },
     "execution_count": 17,
     "metadata": {},
     "output_type": "execute_result"
    }
   ],
   "source": [
    "transcript[1][\"utterance\"][transcript[1][\"speaker\"]==speaker2]"
   ],
   "metadata": {
    "collapsed": false,
    "ExecuteTime": {
     "end_time": "2023-06-20T11:09:49.373450Z",
     "start_time": "2023-06-20T11:09:49.368563Z"
    }
   }
  },
  {
   "cell_type": "code",
   "execution_count": null,
   "outputs": [],
   "source": [],
   "metadata": {
    "collapsed": false
   }
  }
 ],
 "metadata": {
  "kernelspec": {
   "display_name": "Python 3",
   "language": "python",
   "name": "python3"
  },
  "language_info": {
   "codemirror_mode": {
    "name": "ipython",
    "version": 2
   },
   "file_extension": ".py",
   "mimetype": "text/x-python",
   "name": "python",
   "nbconvert_exporter": "python",
   "pygments_lexer": "ipython2",
   "version": "2.7.6"
  }
 },
 "nbformat": 4,
 "nbformat_minor": 0
}
