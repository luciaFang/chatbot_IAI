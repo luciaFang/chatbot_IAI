{
 "cells": [
  {
   "cell_type": "markdown",
   "source": [
    "### Go through all candor files"
   ],
   "metadata": {
    "collapsed": false
   }
  },
  {
   "cell_type": "code",
   "execution_count": 42,
   "outputs": [],
   "source": [
    "import os\n",
    "import pandas as pd\n",
    "import numpy as np\n",
    "from tqdm import notebook\n",
    "import matplotlib.pyplot as plt\n",
    "from sklearn.linear_model import LinearRegression"
   ],
   "metadata": {
    "collapsed": false,
    "ExecuteTime": {
     "end_time": "2023-06-21T23:45:00.805359Z",
     "start_time": "2023-06-21T23:44:59.980644Z"
    }
   }
  },
  {
   "cell_type": "code",
   "execution_count": 2,
   "outputs": [
    {
     "name": "stdout",
     "output_type": "stream",
     "text": [
      "../candor\n"
     ]
    }
   ],
   "source": [
    "rootdir = '../candor'\n",
    "print(rootdir)"
   ],
   "metadata": {
    "collapsed": false,
    "ExecuteTime": {
     "end_time": "2023-06-21T22:37:01.265131Z",
     "start_time": "2023-06-21T22:37:01.256126Z"
    }
   }
  },
  {
   "cell_type": "code",
   "execution_count": 3,
   "outputs": [
    {
     "data": {
      "text/plain": "0it [00:00, ?it/s]",
      "application/vnd.jupyter.widget-view+json": {
       "version_major": 2,
       "version_minor": 0,
       "model_id": "56692c0610e0417483feeab7b1701bcb"
      }
     },
     "metadata": {},
     "output_type": "display_data"
    }
   ],
   "source": [
    "transcript = []\n",
    "for subdir, dirs, files in notebook.tqdm(os.walk(rootdir)):\n",
    "    for file in files:\n",
    "        if file==\"transcript_backbiter.csv\":\n",
    "            current_csv = pd.read_csv(os.path.join(subdir, file))\n",
    "            transcript.append(current_csv)"
   ],
   "metadata": {
    "collapsed": false,
    "ExecuteTime": {
     "end_time": "2023-06-21T22:37:08.990838Z",
     "start_time": "2023-06-21T22:37:05.905450Z"
    }
   }
  },
  {
   "cell_type": "code",
   "execution_count": 5,
   "outputs": [
    {
     "data": {
      "text/plain": "0      1\n1      0\n2      0\n3      0\n4      0\n      ..\n195    0\n196    0\n197    9\n198    0\n199    1\nName: backchannel_count, Length: 200, dtype: int64"
     },
     "execution_count": 5,
     "metadata": {},
     "output_type": "execute_result"
    }
   ],
   "source": [
    "transcript[1][\"backchannel_count\"]"
   ],
   "metadata": {
    "collapsed": false,
    "ExecuteTime": {
     "end_time": "2023-06-21T22:38:40.383003Z",
     "start_time": "2023-06-21T22:38:40.378395Z"
    }
   }
  },
  {
   "cell_type": "markdown",
   "source": [
    "## filter speaker1 vs speaker2"
   ],
   "metadata": {
    "collapsed": false
   }
  },
  {
   "cell_type": "code",
   "execution_count": 6,
   "outputs": [],
   "source": [
    "speaker1, speaker2 = transcript[1][\"speaker\"].unique()"
   ],
   "metadata": {
    "collapsed": false,
    "ExecuteTime": {
     "end_time": "2023-06-21T22:41:18.019380Z",
     "start_time": "2023-06-21T22:41:18.011411Z"
    }
   }
  },
  {
   "cell_type": "code",
   "execution_count": 7,
   "outputs": [
    {
     "data": {
      "text/plain": "('5f220462c16ecb68c97ccad9', '55a43cf3fdf99b02ff6cb0b4')"
     },
     "execution_count": 7,
     "metadata": {},
     "output_type": "execute_result"
    }
   ],
   "source": [
    "speaker1, speaker2"
   ],
   "metadata": {
    "collapsed": false,
    "ExecuteTime": {
     "end_time": "2023-06-21T22:41:22.299224Z",
     "start_time": "2023-06-21T22:41:22.290538Z"
    }
   }
  },
  {
   "cell_type": "code",
   "execution_count": 11,
   "outputs": [
    {
     "data": {
      "text/plain": "67"
     },
     "execution_count": 11,
     "metadata": {},
     "output_type": "execute_result"
    }
   ],
   "source": [
    "transcript[1][\"backchannel_count\"][transcript[1][\"speaker\"]==speaker1].sum()"
   ],
   "metadata": {
    "collapsed": false,
    "ExecuteTime": {
     "end_time": "2023-06-21T22:42:04.312669Z",
     "start_time": "2023-06-21T22:42:04.307228Z"
    }
   }
  },
  {
   "cell_type": "code",
   "execution_count": 10,
   "outputs": [
    {
     "data": {
      "text/plain": "133"
     },
     "execution_count": 10,
     "metadata": {},
     "output_type": "execute_result"
    }
   ],
   "source": [
    "transcript[1][\"backchannel_count\"][transcript[1][\"speaker\"]==speaker2].sum()"
   ],
   "metadata": {
    "collapsed": false,
    "ExecuteTime": {
     "end_time": "2023-06-21T22:41:58.607073Z",
     "start_time": "2023-06-21T22:41:58.602954Z"
    }
   }
  },
  {
   "cell_type": "code",
   "execution_count": 16,
   "outputs": [
    {
     "data": {
      "text/plain": "  0%|          | 0/1656 [00:00<?, ?it/s]",
      "application/vnd.jupyter.widget-view+json": {
       "version_major": 2,
       "version_minor": 0,
       "model_id": "9bcccffe94704332a113c9f7544cfbbd"
      }
     },
     "metadata": {},
     "output_type": "display_data"
    }
   ],
   "source": [
    "speaker1_backchannel = []\n",
    "speaker2_backchannel = []\n",
    "\n",
    "for trans in notebook.tqdm(transcript):\n",
    "    speaker1, speaker2 = trans[\"speaker\"].unique()\n",
    "    speaker1_backchannel.append(trans[\"backchannel_count\"][trans[\"speaker\"]==speaker1].sum())\n",
    "    speaker2_backchannel.append(trans[\"backchannel_count\"][trans[\"speaker\"]==speaker2].sum())"
   ],
   "metadata": {
    "collapsed": false,
    "ExecuteTime": {
     "end_time": "2023-06-21T22:47:37.884864Z",
     "start_time": "2023-06-21T22:47:37.428499Z"
    }
   }
  },
  {
   "cell_type": "code",
   "execution_count": 17,
   "outputs": [
    {
     "name": "stdout",
     "output_type": "stream",
     "text": [
      "[212, 67, 84, 194, 53, 97, 71, 53, 171, 39, 165, 53, 236, 227, 93, 121, 106, 86, 105, 163, 194, 258, 218, 107, 220, 250, 142, 107, 214, 301, 131, 240, 94, 139, 116, 37, 115, 57, 46, 159, 102, 382, 139, 84, 19, 47, 66, 118, 97, 59, 102, 66, 101, 127, 122, 110, 30, 241, 138, 158, 33, 110, 123, 104, 180, 130, 66, 438, 109, 119, 221, 194, 83, 98, 91, 66, 170, 250, 100, 56, 48, 153, 189, 287, 137, 165, 82, 155, 123, 164, 132, 72, 222, 211, 131, 98, 105, 89, 189, 77, 274, 77, 551, 47, 58, 117, 52, 230, 61, 219, 178, 126, 214, 185, 188, 117, 144, 108, 60, 256, 86, 129, 296, 138, 109, 148, 193, 61, 111, 125, 104, 76, 116, 63, 138, 99, 186, 146, 335, 98, 127, 87, 82, 97, 144, 169, 75, 92, 420, 129, 168, 127, 141, 129, 93, 53, 274, 178, 54, 170, 51, 152, 217, 232, 89, 304, 46, 153, 141, 277, 193, 269, 48, 184, 251, 91, 83, 142, 28, 234, 138, 174, 127, 127, 79, 176, 343, 35, 243, 139, 63, 158, 65, 117, 90, 57, 30, 140, 89, 379, 108, 113, 121, 118, 83, 145, 109, 96, 209, 277, 89, 271, 200, 260, 199, 139, 192, 112, 276, 50, 77, 128, 315, 146, 423, 69, 128, 186, 134, 50, 163, 103, 47, 124, 57, 136, 113, 68, 185, 248, 122, 80, 127, 264, 230, 144, 133, 329, 146, 137, 112, 48, 108, 172, 90, 148, 67, 46, 206, 301, 66, 162, 42, 101, 158, 49, 169, 188, 176, 102, 26, 69, 168, 385, 54, 174, 89, 113, 381, 236, 122, 88, 59, 120, 169, 113, 123, 160, 113, 167, 54, 28, 50, 110, 121, 536, 220, 179, 198, 94, 432, 80, 223, 255, 298, 79, 159, 81, 122, 161, 77, 105, 66, 201, 99, 133, 60, 311, 93, 269, 64, 119, 100, 85, 202, 82, 51, 186, 321, 25, 71, 265, 334, 70, 125, 79, 133, 338, 156, 138, 278, 51, 113, 220, 150, 178, 53, 180, 61, 127, 113, 163, 173, 141, 266, 95, 62, 142, 56, 249, 182, 89, 39, 164, 203, 117, 118, 253, 89, 123, 175, 127, 59, 108, 163, 269, 96, 183, 145, 72, 100, 76, 240, 157, 118, 55, 160, 186, 136, 195, 81, 277, 141, 64, 150, 103, 48, 116, 99, 211, 144, 214, 281, 134, 164, 91, 116, 251, 90, 112, 88, 131, 79, 160, 107, 187, 152, 230, 232, 107, 206, 324, 187, 310, 81, 111, 109, 160, 152, 123, 124, 262, 128, 345, 171, 81, 171, 63, 12, 95, 107, 127, 139, 24, 63, 133, 187, 124, 324, 138, 181, 135, 225, 69, 295, 186, 110, 174, 117, 128, 157, 56, 175, 181, 105, 116, 90, 138, 151, 139, 76, 165, 158, 118, 264, 94, 56, 141, 157, 97, 93, 225, 136, 210, 104, 251, 75, 74, 154, 101, 69, 67, 11, 95, 112, 59, 106, 128, 164, 79, 101, 117, 182, 183, 142, 238, 133, 194, 97, 50, 51, 250, 141, 152, 411, 151, 165, 79, 77, 131, 285, 144, 33, 166, 83, 106, 80, 335, 78, 118, 297, 168, 99, 243, 161, 37, 142, 582, 240, 124, 142, 175, 96, 189, 59, 105, 127, 152, 52, 123, 199, 180, 201, 177, 223, 187, 104, 155, 166, 33, 198, 62, 53, 113, 147, 68, 96, 103, 45, 97, 102, 96, 78, 90, 149, 23, 223, 256, 207, 58, 98, 351, 109, 147, 293, 231, 55, 147, 230, 414, 176, 167, 111, 85, 122, 731, 150, 96, 47, 243, 90, 234, 142, 245, 93, 53, 92, 97, 134, 39, 190, 97, 73, 128, 212, 367, 261, 46, 124, 52, 98, 60, 163, 74, 207, 212, 90, 143, 211, 149, 133, 20, 101, 115, 73, 5, 171, 89, 156, 45, 59, 211, 105, 111, 77, 81, 188, 87, 106, 317, 73, 140, 140, 81, 47, 151, 212, 154, 158, 159, 110, 102, 377, 134, 329, 129, 92, 68, 156, 108, 102, 132, 77, 121, 194, 58, 63, 211, 132, 154, 137, 118, 73, 103, 47, 205, 112, 167, 60, 67, 141, 106, 165, 122, 69, 59, 123, 60, 116, 355, 111, 178, 73, 196, 111, 146, 340, 100, 95, 189, 153, 113, 368, 100, 22, 90, 127, 33, 102, 94, 110, 92, 337, 153, 3, 140, 204, 88, 125, 97, 237, 170, 235, 159, 109, 221, 54, 46, 146, 48, 78, 40, 50, 118, 156, 181, 104, 136, 172, 74, 140, 330, 159, 265, 90, 35, 177, 283, 102, 148, 97, 73, 81, 167, 52, 212, 134, 59, 158, 205, 80, 136, 74, 223, 124, 86, 63, 241, 181, 196, 116, 110, 130, 93, 95, 106, 124, 300, 55, 129, 121, 61, 109, 220, 116, 244, 130, 76, 111, 149, 121, 76, 64, 47, 75, 172, 145, 196, 576, 229, 83, 179, 46, 57, 168, 239, 207, 435, 42, 46, 220, 129, 65, 126, 44, 155, 111, 138, 138, 143, 219, 67, 130, 91, 217, 138, 104, 126, 137, 420, 134, 184, 115, 275, 260, 200, 182, 386, 53, 115, 242, 127, 35, 93, 68, 160, 80, 69, 115, 90, 38, 173, 169, 369, 92, 88, 562, 76, 147, 46, 161, 66, 219, 189, 81, 73, 92, 100, 152, 110, 96, 98, 99, 25, 130, 198, 139, 176, 133, 153, 96, 176, 75, 88, 135, 254, 141, 91, 179, 122, 95, 188, 95, 54, 162, 91, 83, 124, 215, 136, 204, 153, 278, 198, 163, 93, 222, 80, 108, 140, 325, 249, 258, 111, 284, 160, 161, 126, 73, 141, 233, 17, 115, 85, 161, 72, 132, 113, 56, 59, 76, 218, 98, 203, 184, 72, 128, 97, 135, 115, 53, 99, 84, 43, 265, 27, 188, 398, 101, 86, 138, 122, 112, 147, 77, 163, 214, 266, 252, 285, 36, 70, 49, 102, 177, 206, 56, 79, 210, 144, 140, 120, 81, 66, 170, 91, 117, 182, 91, 124, 241, 108, 83, 69, 92, 113, 58, 80, 49, 188, 81, 100, 94, 54, 121, 88, 67, 86, 51, 156, 89, 46, 62, 115, 155, 123, 83, 58, 72, 23, 71, 171, 60, 451, 171, 64, 233, 112, 80, 231, 263, 90, 124, 117, 186, 255, 68, 81, 132, 254, 109, 155, 104, 125, 98, 43, 80, 172, 124, 144, 72, 130, 131, 142, 156, 161, 169, 141, 144, 109, 260, 135, 85, 147, 78, 580, 104, 124, 140, 154, 105, 112, 148, 64, 118, 163, 243, 168, 250, 104, 64, 211, 69, 107, 272, 106, 96, 69, 160, 265, 76, 190, 216, 137, 133, 108, 142, 54, 50, 73, 72, 369, 275, 83, 290, 246, 142, 88, 96, 144, 112, 102, 250, 63, 73, 59, 105, 68, 54, 129, 235, 228, 34, 145, 247, 98, 60, 208, 78, 47, 86, 147, 46, 248, 122, 60, 139, 426, 94, 80, 98, 130, 271, 44, 99, 191, 128, 227, 216, 130, 183, 178, 245, 108, 103, 161, 184, 155, 152, 176, 115, 48, 65, 102, 102, 142, 123, 78, 115, 87, 99, 55, 188, 168, 47, 121, 127, 86, 77, 65, 183, 111, 132, 65, 155, 151, 121, 60, 120, 179, 47, 130, 96, 55, 115, 140, 212, 71, 382, 63, 60, 141, 80, 244, 101, 95, 260, 167, 267, 171, 179, 74, 167, 189, 24, 186, 24, 204, 83, 75, 63, 127, 33, 59, 30, 126, 160, 154, 276, 194, 104, 175, 147, 292, 59, 61, 121, 70, 212, 39, 114, 175, 88, 364, 126, 209, 135, 111, 156, 152, 96, 88, 49, 160, 143, 127, 60, 127, 156, 108, 115, 312, 168, 118, 159, 76, 107, 420, 89, 51, 69, 344, 166, 161, 341, 88, 49, 162, 325, 72, 186, 78, 71, 96, 41, 289, 223, 177, 17, 145, 108, 344, 39, 134, 553, 62, 269, 97, 64, 72, 154, 147, 68, 91, 130, 223, 239, 103, 92, 155, 80, 43, 53, 256, 268, 139, 153, 146, 138, 115, 340, 100, 61, 163, 82, 77, 238, 77, 303, 54, 125, 64, 91, 49, 87, 63, 89, 69, 119, 65, 83, 104, 225, 276, 300, 90, 173, 91, 75, 479, 54, 159, 62, 376, 54, 320, 46, 221, 137, 68, 244, 88, 163, 185, 126, 91, 293, 205, 67, 133, 194, 169, 77, 104, 165, 189, 147, 183, 282, 132, 92, 59, 120, 145, 147, 108, 169, 135, 86, 106, 92, 129, 119, 241, 48, 163, 41, 95, 75, 92, 53, 45, 61, 175, 118, 357, 95, 147, 300, 212, 79, 46, 129, 85, 118, 157, 213, 176, 398, 119, 109, 167, 73, 183, 66, 117, 175, 173, 200, 130, 256, 163, 105, 120, 124, 117, 279, 106, 165, 191, 313, 187, 371, 84, 142, 172, 162, 100, 50, 124, 148, 102, 141, 114, 172, 182, 212, 280, 307, 95, 100, 376, 97, 229, 121, 153, 129, 149, 83, 149, 442, 218, 72, 140, 83, 156, 60, 149, 178, 153, 66, 177, 25, 215, 87, 74, 110, 113, 52, 90, 223, 75, 93, 140, 214, 68, 102, 113, 106, 89, 119, 98, 182, 284, 109, 81, 169, 135, 75, 44, 80, 93, 45, 141, 99, 80, 245, 31, 127, 115, 349, 118, 137, 48, 259, 269, 73, 67, 135, 36, 120, 523, 276, 91, 95, 230, 101, 56, 161, 139, 44, 200, 114, 95, 150, 79, 112, 127, 160, 39, 155, 387, 272, 125, 282, 245, 133, 85, 69, 133, 86, 83, 116, 167, 95, 147, 33, 60, 134, 378, 315, 102, 73, 119, 45, 84, 131, 192, 87, 102, 99, 37, 243, 149, 219, 327, 90, 77, 78, 175, 156, 230, 102, 134, 113, 362, 66, 145, 71, 105, 199, 158, 247, 40, 72, 151, 169, 37, 228, 60, 103, 184, 292, 94, 132, 87, 96, 184, 104, 120, 50, 187, 421, 97, 174, 104, 183, 63, 250, 63, 21, 173, 164, 44, 194, 115, 75, 148, 133, 71, 114, 90, 217, 233, 216, 63, 97, 138, 272, 107, 108, 127, 330, 134, 142, 336] [76, 133, 116, 81, 61, 75, 59, 130, 46, 92, 160, 222, 47, 97, 97, 140, 53, 87, 92, 91, 105, 56, 73, 67, 65, 121, 129, 144, 48, 91, 117, 93, 111, 159, 69, 130, 76, 147, 156, 199, 97, 49, 178, 226, 305, 113, 27, 114, 109, 112, 83, 185, 116, 167, 69, 248, 110, 71, 244, 138, 106, 109, 161, 113, 92, 116, 137, 44, 116, 61, 178, 41, 148, 115, 233, 178, 110, 78, 296, 145, 154, 169, 162, 43, 99, 124, 336, 171, 101, 156, 195, 47, 91, 107, 105, 138, 116, 182, 41, 147, 75, 208, 100, 97, 52, 106, 49, 174, 157, 35, 124, 92, 74, 122, 92, 225, 224, 83, 41, 178, 110, 78, 256, 76, 136, 115, 90, 201, 145, 39, 170, 343, 194, 211, 109, 179, 139, 263, 165, 54, 137, 79, 88, 138, 125, 94, 115, 71, 50, 61, 158, 114, 44, 90, 202, 130, 58, 34, 154, 40, 402, 187, 73, 161, 169, 144, 50, 68, 107, 114, 270, 84, 177, 113, 200, 189, 252, 103, 63, 26, 87, 112, 82, 51, 35, 134, 84, 135, 102, 85, 66, 147, 242, 186, 161, 62, 118, 66, 232, 98, 131, 174, 146, 113, 139, 30, 167, 89, 86, 87, 256, 67, 112, 82, 80, 131, 135, 104, 157, 159, 289, 131, 140, 155, 56, 202, 173, 130, 107, 242, 52, 93, 87, 119, 90, 52, 63, 119, 195, 74, 249, 181, 170, 40, 221, 155, 78, 116, 104, 95, 90, 152, 101, 57, 176, 95, 141, 125, 28, 63, 165, 127, 211, 95, 71, 284, 176, 96, 149, 201, 122, 332, 104, 91, 150, 121, 17, 236, 65, 203, 77, 164, 248, 144, 295, 67, 113, 18, 209, 226, 190, 199, 175, 59, 83, 52, 91, 59, 65, 224, 163, 96, 153, 167, 104, 164, 124, 108, 63, 70, 227, 163, 34, 82, 194, 125, 183, 107, 154, 78, 170, 156, 204, 106, 128, 162, 50, 126, 132, 216, 264, 123, 76, 113, 87, 28, 108, 153, 144, 115, 106, 197, 84, 39, 306, 57, 136, 131, 123, 195, 112, 80, 116, 181, 142, 109, 158, 87, 73, 138, 186, 175, 173, 90, 437, 119, 132, 117, 275, 63, 59, 67, 120, 101, 108, 83, 160, 121, 70, 131, 143, 43, 125, 56, 255, 147, 52, 133, 76, 79, 187, 36, 117, 299, 117, 33, 165, 73, 67, 75, 244, 300, 37, 137, 199, 157, 71, 93, 149, 62, 43, 380, 252, 124, 147, 134, 112, 77, 104, 88, 89, 174, 116, 84, 115, 137, 287, 212, 57, 102, 189, 310, 89, 75, 107, 139, 53, 95, 70, 253, 136, 127, 80, 267, 159, 253, 66, 120, 97, 234, 398, 160, 126, 122, 49, 259, 163, 100, 60, 148, 69, 211, 53, 95, 199, 132, 123, 44, 134, 362, 154, 140, 104, 245, 85, 220, 104, 255, 130, 50, 78, 82, 131, 73, 238, 147, 142, 177, 85, 76, 119, 209, 83, 95, 105, 146, 148, 65, 117, 38, 50, 111, 174, 91, 152, 107, 135, 67, 175, 396, 195, 177, 119, 93, 197, 75, 45, 221, 109, 27, 76, 176, 468, 97, 89, 163, 132, 89, 130, 102, 175, 110, 80, 184, 139, 102, 137, 30, 243, 102, 46, 69, 66, 85, 87, 148, 181, 180, 60, 243, 168, 268, 64, 130, 148, 180, 304, 84, 103, 182, 70, 194, 132, 101, 72, 118, 220, 87, 152, 143, 45, 77, 81, 93, 74, 148, 103, 122, 61, 297, 173, 131, 162, 57, 151, 90, 142, 131, 58, 68, 36, 114, 178, 82, 66, 218, 78, 171, 58, 55, 59, 106, 102, 94, 96, 42, 237, 81, 152, 229, 187, 105, 154, 118, 77, 219, 148, 278, 227, 55, 146, 337, 86, 146, 54, 68, 73, 132, 65, 45, 109, 92, 170, 49, 49, 279, 132, 126, 100, 232, 159, 126, 92, 142, 133, 281, 52, 92, 80, 58, 111, 180, 73, 206, 219, 60, 63, 115, 93, 99, 77, 306, 215, 74, 290, 270, 95, 124, 31, 253, 137, 146, 340, 76, 143, 84, 341, 61, 45, 109, 43, 62, 246, 148, 145, 203, 119, 193, 213, 159, 198, 104, 144, 76, 122, 183, 84, 159, 87, 143, 64, 125, 151, 212, 118, 68, 248, 301, 189, 160, 41, 178, 74, 90, 185, 126, 146, 25, 89, 158, 106, 112, 99, 68, 1, 209, 109, 79, 19, 270, 62, 80, 71, 153, 78, 138, 95, 181, 106, 209, 257, 83, 170, 127, 200, 56, 132, 161, 63, 110, 63, 88, 174, 126, 124, 188, 182, 70, 209, 182, 133, 169, 123, 78, 256, 92, 155, 80, 146, 79, 159, 71, 275, 88, 53, 168, 188, 49, 142, 132, 71, 146, 68, 93, 77, 152, 93, 132, 246, 53, 28, 157, 139, 65, 141, 83, 119, 70, 48, 168, 107, 152, 108, 107, 52, 121, 127, 261, 148, 111, 212, 264, 47, 229, 92, 96, 125, 130, 105, 119, 148, 266, 93, 41, 216, 73, 83, 175, 96, 30, 73, 238, 107, 141, 128, 236, 144, 270, 150, 372, 75, 107, 244, 62, 74, 87, 21, 227, 117, 129, 180, 212, 81, 93, 89, 29, 199, 95, 59, 88, 358, 101, 245, 109, 82, 88, 185, 362, 82, 51, 38, 107, 102, 85, 128, 72, 141, 160, 128, 149, 106, 364, 305, 125, 68, 31, 121, 100, 185, 135, 133, 87, 62, 97, 59, 230, 136, 69, 83, 128, 160, 143, 225, 185, 98, 130, 241, 102, 55, 86, 95, 126, 109, 29, 76, 377, 48, 185, 134, 155, 202, 112, 90, 145, 153, 65, 136, 103, 226, 117, 116, 258, 104, 69, 120, 81, 48, 54, 49, 282, 95, 31, 155, 98, 96, 262, 123, 38, 63, 242, 83, 87, 25, 156, 69, 229, 61, 94, 39, 104, 117, 171, 81, 103, 71, 121, 83, 83, 75, 119, 103, 174, 133, 160, 81, 336, 64, 73, 50, 27, 61, 226, 227, 199, 90, 180, 95, 204, 40, 131, 49, 143, 189, 34, 212, 85, 157, 82, 259, 95, 86, 113, 40, 94, 48, 46, 278, 189, 124, 122, 128, 116, 197, 258, 156, 181, 187, 47, 95, 55, 88, 89, 186, 140, 104, 447, 53, 71, 110, 25, 68, 73, 360, 156, 71, 112, 110, 178, 169, 91, 96, 78, 78, 178, 118, 190, 140, 62, 144, 86, 100, 40, 134, 116, 103, 93, 74, 116, 55, 264, 79, 84, 83, 85, 115, 111, 93, 34, 44, 57, 105, 62, 155, 247, 104, 56, 77, 108, 47, 55, 190, 259, 273, 189, 109, 98, 99, 103, 61, 60, 188, 113, 116, 117, 200, 141, 194, 72, 181, 65, 184, 107, 96, 63, 68, 30, 163, 37, 74, 171, 126, 163, 175, 308, 86, 66, 265, 103, 224, 156, 125, 223, 187, 122, 143, 189, 206, 486, 176, 72, 61, 77, 260, 76, 99, 322, 165, 50, 69, 144, 147, 340, 172, 125, 128, 93, 178, 213, 65, 213, 96, 194, 144, 64, 84, 137, 112, 75, 63, 77, 36, 34, 59, 219, 95, 106, 189, 48, 259, 185, 213, 133, 122, 204, 256, 105, 72, 66, 140, 87, 207, 170, 152, 97, 324, 56, 87, 111, 149, 123, 169, 87, 76, 151, 107, 65, 218, 98, 89, 342, 69, 179, 150, 41, 154, 110, 114, 100, 62, 96, 109, 204, 114, 131, 225, 175, 300, 212, 205, 118, 116, 225, 74, 152, 240, 112, 261, 134, 129, 83, 283, 59, 63, 113, 230, 146, 340, 113, 95, 170, 151, 253, 249, 82, 66, 132, 85, 82, 212, 208, 135, 116, 100, 175, 281, 95, 36, 77, 194, 108, 170, 222, 104, 167, 60, 153, 86, 80, 308, 231, 134, 37, 199, 36, 42, 199, 160, 154, 22, 115, 197, 142, 188, 130, 175, 102, 121, 26, 198, 102, 94, 72, 372, 70, 73, 187, 34, 80, 77, 454, 76, 197, 25, 116, 217, 39, 181, 95, 48, 206, 150, 120, 127, 135, 166, 91, 53, 32, 40, 141, 93, 68, 150, 78, 105, 49, 310, 214, 31, 44, 233, 110, 188, 109, 149, 26, 299, 94, 182, 149, 103, 91, 78, 91, 140, 167, 99, 301, 133, 63, 188, 225, 133, 193, 351, 116, 195, 115, 117, 177, 118, 123, 155, 101, 160, 154, 114, 172, 39, 86, 16, 136, 48, 271, 96, 97, 109, 128, 194, 196, 176, 119, 57, 85, 120, 89, 110, 176, 32, 174, 212, 140, 155, 131, 32, 110, 159, 220, 123, 76, 181, 254, 157, 128, 146, 119, 93, 73, 167, 34, 120, 178, 139, 66, 262, 53, 137, 101, 38, 120, 129, 95, 257, 102, 161, 178, 48, 88, 35, 187, 101, 78, 206, 186, 186, 37, 90, 71, 299, 99, 109, 88, 60, 78, 426, 129, 93, 159, 249, 90, 46, 136, 188, 101, 83, 183, 113, 124, 13, 119, 63, 138, 224, 69, 51, 106, 156, 48, 147, 179, 182, 77, 81, 110, 176, 83, 125, 260, 241, 88, 379, 78, 151, 85, 306, 107, 111, 130, 86, 102, 125, 110, 227, 147, 131, 267, 151, 246, 144, 48, 58, 49, 79, 122, 228, 171, 58, 103, 72, 186, 246, 256, 78, 67, 211, 167, 108, 322, 107, 209, 602, 122, 122, 274, 118, 131, 100, 247, 92, 107, 110, 134, 57, 36, 34, 224, 106, 159, 64, 101, 55, 89, 150, 150, 130, 110, 64, 93, 75, 49, 62, 158, 160, 113, 26, 213, 135, 200, 149, 52, 132, 146, 92, 120, 58, 114, 201, 86, 192, 38, 49, 161, 230, 72, 251, 375, 144, 64, 74, 86, 91, 128, 73, 58, 70, 112, 283, 95, 31, 46, 84, 28, 114, 137, 81, 72, 161, 137, 113, 123, 246, 86, 103, 59, 128, 154, 205, 152, 55, 182, 82, 82, 52, 60, 171, 136, 132, 165, 102, 171, 142, 65, 120, 66, 195, 97, 77, 78, 135, 184, 199, 158, 134, 160, 132, 103, 283, 141, 126, 193, 193, 58, 218, 196, 172, 119, 93, 142, 83, 47, 200, 94, 54, 187, 81, 103]\n"
     ]
    }
   ],
   "source": [
    "print(speaker1_backchannel, speaker2_backchannel)"
   ],
   "metadata": {
    "collapsed": false,
    "ExecuteTime": {
     "end_time": "2023-06-21T22:47:38.713946Z",
     "start_time": "2023-06-21T22:47:38.708723Z"
    }
   }
  },
  {
   "cell_type": "code",
   "execution_count": 18,
   "outputs": [
    {
     "data": {
      "text/plain": "0it [00:00, ?it/s]",
      "application/vnd.jupyter.widget-view+json": {
       "version_major": 2,
       "version_minor": 0,
       "model_id": "010cdc53202c41a4b18f8c2f3068a4d8"
      }
     },
     "metadata": {},
     "output_type": "display_data"
    }
   ],
   "source": [
    "survey_list = []\n",
    "for subdir, dirs, files in notebook.tqdm(os.walk(rootdir)):\n",
    "    for file in files:\n",
    "        if file==\"survey.csv\":\n",
    "            current_csv = pd.read_csv(os.path.join(subdir, file))\n",
    "            survey_list.append(current_csv)"
   ],
   "metadata": {
    "collapsed": false,
    "ExecuteTime": {
     "end_time": "2023-06-21T22:50:27.520783Z",
     "start_time": "2023-06-21T22:50:19.683316Z"
    }
   }
  },
  {
   "cell_type": "code",
   "execution_count": 105,
   "outputs": [
    {
     "data": {
      "text/plain": "  0%|          | 0/1656 [00:00<?, ?it/s]",
      "application/vnd.jupyter.widget-view+json": {
       "version_major": 2,
       "version_minor": 0,
       "model_id": "47c5147148bf48a1afd632ab6e4d7ae1"
      }
     },
     "metadata": {},
     "output_type": "display_data"
    }
   ],
   "source": [
    "preaffect_list = []\n",
    "affect_list = []\n",
    "prearousal_list = []\n",
    "arousal_list = []\n",
    "speaker1_backchannel = []\n",
    "speaker2_backchannel = []\n",
    "\n",
    "for i, survey in enumerate(notebook.tqdm(survey_list)):\n",
    "    # if ((np.mean(survey[\"conversationalist\"]) >= 85) or (np.mean(survey[\"conversationalist\"]) <= 65.5)):\n",
    "    if ((np.mean(survey['conversationalist']) >= 85)):\n",
    "        speaker1, speaker2 = survey[\"user_id\"].unique()\n",
    "        speaker1_backchannel.append(transcript[i][\"backchannel_count\"][transcript[i][\"speaker\"]==speaker1].sum())\n",
    "        speaker2_backchannel.append(transcript[i][\"backchannel_count\"][transcript[i][\"speaker\"]==speaker2].sum())\n",
    "\n",
    "        preaffect_list.append(survey[\"pre_affect\"])\n",
    "        affect_list.append(survey[\"affect\"])\n",
    "        prearousal_list.append(survey[\"pre_arousal\"])\n",
    "        arousal_list.append(survey[\"arousal\"])"
   ],
   "metadata": {
    "collapsed": false,
    "ExecuteTime": {
     "end_time": "2023-06-22T00:03:48.530337Z",
     "start_time": "2023-06-22T00:03:48.329474Z"
    }
   }
  },
  {
   "cell_type": "code",
   "execution_count": 106,
   "outputs": [
    {
     "data": {
      "text/plain": "(415,)"
     },
     "execution_count": 106,
     "metadata": {},
     "output_type": "execute_result"
    }
   ],
   "source": [
    "idx_notnan = np.where(~np.isnan(np.mean(affect_list, axis=1))==True)[0]\n",
    "idx_notnan.shape"
   ],
   "metadata": {
    "collapsed": false,
    "ExecuteTime": {
     "end_time": "2023-06-22T00:03:52.079603Z",
     "start_time": "2023-06-22T00:03:52.073199Z"
    }
   }
  },
  {
   "cell_type": "code",
   "execution_count": 66,
   "outputs": [
    {
     "data": {
      "text/plain": "(array([ 60,  61,  64, 102, 114, 124, 147, 173, 233, 238, 242, 272, 325,\n        353, 398, 400, 448, 510, 520, 525, 556, 593, 594, 613, 651, 670,\n        743, 773, 777, 823]),)"
     },
     "execution_count": 66,
     "metadata": {},
     "output_type": "execute_result"
    }
   ],
   "source": [
    "np.where(np.isnan(np.mean(affect_list, axis=1))==True)"
   ],
   "metadata": {
    "collapsed": false,
    "ExecuteTime": {
     "end_time": "2023-06-21T23:54:30.894084Z",
     "start_time": "2023-06-21T23:54:30.888091Z"
    }
   }
  },
  {
   "cell_type": "code",
   "execution_count": 64,
   "outputs": [
    {
     "data": {
      "text/plain": "(1708,)"
     },
     "execution_count": 64,
     "metadata": {},
     "output_type": "execute_result"
    }
   ],
   "source": [
    "np.hstack(affect_list).shape"
   ],
   "metadata": {
    "collapsed": false,
    "ExecuteTime": {
     "end_time": "2023-06-21T23:53:47.391901Z",
     "start_time": "2023-06-21T23:53:47.387070Z"
    }
   }
  },
  {
   "cell_type": "code",
   "execution_count": 32,
   "outputs": [
    {
     "data": {
      "text/plain": "(84,\n 0    7.0\n 1    8.0\n Name: pre_affect, dtype: float64,\n 0    7.0\n 1    9.0\n Name: affect, dtype: float64)"
     },
     "execution_count": 32,
     "metadata": {},
     "output_type": "execute_result"
    }
   ],
   "source": [
    "speaker2_backchannel[0], preaffect_list[0], affect_list[0]"
   ],
   "metadata": {
    "collapsed": false,
    "ExecuteTime": {
     "end_time": "2023-06-21T23:19:01.773698Z",
     "start_time": "2023-06-21T23:19:01.768688Z"
    }
   }
  },
  {
   "cell_type": "code",
   "execution_count": 30,
   "outputs": [
    {
     "data": {
      "text/plain": "(116,\n 0    7.0\n 1    8.0\n Name: pre_affect, dtype: float64,\n 0    7.0\n 1    9.0\n Name: affect, dtype: float64)"
     },
     "execution_count": 30,
     "metadata": {},
     "output_type": "execute_result"
    }
   ],
   "source": [
    "speaker1_backchannel[0], preaffect_list[0], affect_list[0]"
   ],
   "metadata": {
    "collapsed": false,
    "ExecuteTime": {
     "end_time": "2023-06-21T23:17:45.052457Z",
     "start_time": "2023-06-21T23:17:45.049793Z"
    }
   }
  },
  {
   "cell_type": "code",
   "execution_count": 34,
   "outputs": [
    {
     "data": {
      "text/plain": "(194,\n 81,\n 0    5.0\n 1    4.0\n Name: pre_affect, dtype: float64,\n 0    6.0\n 1    6.0\n Name: affect, dtype: float64)"
     },
     "execution_count": 34,
     "metadata": {},
     "output_type": "execute_result"
    }
   ],
   "source": [
    "speaker1_backchannel[1], speaker2_backchannel[1], preaffect_list[1], affect_list[1]"
   ],
   "metadata": {
    "collapsed": false,
    "ExecuteTime": {
     "end_time": "2023-06-21T23:28:11.266034Z",
     "start_time": "2023-06-21T23:28:11.261201Z"
    }
   }
  },
  {
   "cell_type": "code",
   "execution_count": 62,
   "outputs": [
    {
     "data": {
      "text/plain": "array([   0,    1,    2, ..., 1705, 1706, 1707])"
     },
     "execution_count": 62,
     "metadata": {},
     "output_type": "execute_result"
    }
   ],
   "source": [
    "idx_notnan"
   ],
   "metadata": {
    "collapsed": false,
    "ExecuteTime": {
     "end_time": "2023-06-21T23:53:04.599487Z",
     "start_time": "2023-06-21T23:53:04.592114Z"
    }
   }
  },
  {
   "cell_type": "code",
   "execution_count": 117,
   "outputs": [
    {
     "data": {
      "text/plain": "((415, 1), (415,))"
     },
     "execution_count": 117,
     "metadata": {},
     "output_type": "execute_result"
    }
   ],
   "source": [
    "from scipy.stats import zscore\n",
    "x = zscore(np.hstack([speaker2_backchannel[i] for i in idx_notnan]).reshape(-1, 1))\n",
    "y = np.hstack([affect_list[i][0]-preaffect_list[i][0] for i in idx_notnan])\n",
    "x.shape, y.shape"
   ],
   "metadata": {
    "collapsed": false,
    "ExecuteTime": {
     "end_time": "2023-06-22T00:05:03.438888Z",
     "start_time": "2023-06-22T00:05:03.436517Z"
    }
   }
  },
  {
   "cell_type": "code",
   "execution_count": 118,
   "outputs": [
    {
     "data": {
      "text/plain": "<matplotlib.collections.PathCollection at 0x7ff5227d1460>"
     },
     "execution_count": 118,
     "metadata": {},
     "output_type": "execute_result"
    },
    {
     "data": {
      "text/plain": "<Figure size 640x480 with 1 Axes>",
      "image/png": "[encoded data removed]"
     },
     "metadata": {},
     "output_type": "display_data"
    }
   ],
   "source": [
    "plt.scatter(x, y)"
   ],
   "metadata": {
    "collapsed": false,
    "ExecuteTime": {
     "end_time": "2023-06-22T00:05:04.864671Z",
     "start_time": "2023-06-22T00:05:04.736524Z"
    }
   }
  },
  {
   "cell_type": "code",
   "execution_count": 119,
   "outputs": [
    {
     "data": {
      "text/plain": "LinearRegression()",
      "text/html": "<style>#sk-container-id-10 {color: black;background-color: white;}#sk-container-id-10 pre{padding: 0;}#sk-container-id-10 div.sk-toggleable {background-color: white;}#sk-container-id-10 label.sk-toggleable__label {cursor: pointer;display: block;width: 100%;margin-bottom: 0;padding: 0.3em;box-sizing: border-box;text-align: center;}#sk-container-id-10 label.sk-toggleable__label-arrow:before {content: \"▸\";float: left;margin-right: 0.25em;color: #696969;}#sk-container-id-10 label.sk-toggleable__label-arrow:hover:before {color: black;}#sk-container-id-10 div.sk-estimator:hover label.sk-toggleable__label-arrow:before {color: black;}#sk-container-id-10 div.sk-toggleable__content {max-height: 0;max-width: 0;overflow: hidden;text-align: left;background-color: #f0f8ff;}#sk-container-id-10 div.sk-toggleable__content pre {margin: 0.2em;color: black;border-radius: 0.25em;background-color: #f0f8ff;}#sk-container-id-10 input.sk-toggleable__control:checked~div.sk-toggleable__content {max-height: 200px;max-width: 100%;overflow: auto;}#sk-container-id-10 input.sk-toggleable__control:checked~label.sk-toggleable__label-arrow:before {content: \"▾\";}#sk-container-id-10 div.sk-estimator input.sk-toggleable__control:checked~label.sk-toggleable__label {background-color: #d4ebff;}#sk-container-id-10 div.sk-label input.sk-toggleable__control:checked~label.sk-toggleable__label {background-color: #d4ebff;}#sk-container-id-10 input.sk-hidden--visually {border: 0;clip: rect(1px 1px 1px 1px);clip: rect(1px, 1px, 1px, 1px);height: 1px;margin: -1px;overflow: hidden;padding: 0;position: absolute;width: 1px;}#sk-container-id-10 div.sk-estimator {font-family: monospace;background-color: #f0f8ff;border: 1px dotted black;border-radius: 0.25em;box-sizing: border-box;margin-bottom: 0.5em;}#sk-container-id-10 div.sk-estimator:hover {background-color: #d4ebff;}#sk-container-id-10 div.sk-parallel-item::after {content: \"\";width: 100%;border-bottom: 1px solid gray;flex-grow: 1;}#sk-container-id-10 div.sk-label:hover label.sk-toggleable__label {background-color: #d4ebff;}#sk-container-id-10 div.sk-serial::before {content: \"\";position: absolute;border-left: 1px solid gray;box-sizing: border-box;top: 0;bottom: 0;left: 50%;z-index: 0;}#sk-container-id-10 div.sk-serial {display: flex;flex-direction: column;align-items: center;background-color: white;padding-right: 0.2em;padding-left: 0.2em;position: relative;}#sk-container-id-10 div.sk-item {position: relative;z-index: 1;}#sk-container-id-10 div.sk-parallel {display: flex;align-items: stretch;justify-content: center;background-color: white;position: relative;}#sk-container-id-10 div.sk-item::before, #sk-container-id-10 div.sk-parallel-item::before {content: \"\";position: absolute;border-left: 1px solid gray;box-sizing: border-box;top: 0;bottom: 0;left: 50%;z-index: -1;}#sk-container-id-10 div.sk-parallel-item {display: flex;flex-direction: column;z-index: 1;position: relative;background-color: white;}#sk-container-id-10 div.sk-parallel-item:first-child::after {align-self: flex-end;width: 50%;}#sk-container-id-10 div.sk-parallel-item:last-child::after {align-self: flex-start;width: 50%;}#sk-container-id-10 div.sk-parallel-item:only-child::after {width: 0;}#sk-container-id-10 div.sk-dashed-wrapped {border: 1px dashed gray;margin: 0 0.4em 0.5em 0.4em;box-sizing: border-box;padding-bottom: 0.4em;background-color: white;}#sk-container-id-10 div.sk-label label {font-family: monospace;font-weight: bold;display: inline-block;line-height: 1.2em;}#sk-container-id-10 div.sk-label-container {text-align: center;}#sk-container-id-10 div.sk-container {/* jupyter's `normalize.less` sets `[hidden] { display: none; }` but bootstrap.min.css set `[hidden] { display: none !important; }` so we also need the `!important` here to be able to override the default hidden behavior on the sphinx rendered scikit-learn.org. See: https://github.com/scikit-learn/scikit-learn/issues/21755 */display: inline-block !important;position: relative;}#sk-container-id-10 div.sk-text-repr-fallback {display: none;}</style><div id=\"sk-container-id-10\" class=\"sk-top-container\"><div class=\"sk-text-repr-fallback\"><pre>LinearRegression()</pre><b>In a Jupyter environment, please rerun this cell to show the HTML representation or trust the notebook. <br />On GitHub, the HTML representation is unable to render, please try loading this page with nbviewer.org.</b></div><div class=\"sk-container\" hidden><div class=\"sk-item\"><div class=\"sk-estimator sk-toggleable\"><input class=\"sk-toggleable__control sk-hidden--visually\" id=\"sk-estimator-id-10\" type=\"checkbox\" checked><label for=\"sk-estimator-id-10\" class=\"sk-toggleable__label sk-toggleable__label-arrow\">LinearRegression</label><div class=\"sk-toggleable__content\"><pre>LinearRegression()</pre></div></div></div></div></div>"
     },
     "execution_count": 119,
     "metadata": {},
     "output_type": "execute_result"
    }
   ],
   "source": [
    "lm = LinearRegression()\n",
    "lm.fit(x, y)"
   ],
   "metadata": {
    "collapsed": false,
    "ExecuteTime": {
     "end_time": "2023-06-22T00:05:05.824898Z",
     "start_time": "2023-06-22T00:05:05.821955Z"
    }
   }
  },
  {
   "cell_type": "code",
   "execution_count": 120,
   "outputs": [],
   "source": [
    "rsqr = lm.score(x, y)"
   ],
   "metadata": {
    "collapsed": false,
    "ExecuteTime": {
     "end_time": "2023-06-22T00:05:07.226844Z",
     "start_time": "2023-06-22T00:05:07.221125Z"
    }
   }
  },
  {
   "cell_type": "code",
   "execution_count": 121,
   "outputs": [
    {
     "name": "stdout",
     "output_type": "stream",
     "text": [
      "0.0011279557211522073\n"
     ]
    }
   ],
   "source": [
    "print(rsqr)"
   ],
   "metadata": {
    "collapsed": false,
    "ExecuteTime": {
     "end_time": "2023-06-22T00:05:07.706178Z",
     "start_time": "2023-06-22T00:05:07.702528Z"
    }
   }
  },
  {
   "cell_type": "code",
   "execution_count": 28,
   "outputs": [
    {
     "data": {
      "text/plain": "0    5c8be0dd542fbd0016924f5f\n1    5f2f6bd965964e35e20c7445\nName: user_id, dtype: object"
     },
     "execution_count": 28,
     "metadata": {},
     "output_type": "execute_result"
    }
   ],
   "source": [
    "survey_list[0][\"user_id\"]"
   ],
   "metadata": {
    "collapsed": false,
    "ExecuteTime": {
     "end_time": "2023-06-21T23:16:12.428338Z",
     "start_time": "2023-06-21T23:16:12.425266Z"
    }
   }
  },
  {
   "cell_type": "code",
   "execution_count": 23,
   "outputs": [
    {
     "data": {
      "text/plain": "array(['5f2f6bd965964e35e20c7445', '5c8be0dd542fbd0016924f5f'],\n      dtype=object)"
     },
     "execution_count": 23,
     "metadata": {},
     "output_type": "execute_result"
    }
   ],
   "source": [
    "transcript[0][\"speaker\"].unique()"
   ],
   "metadata": {
    "collapsed": false,
    "ExecuteTime": {
     "end_time": "2023-06-21T22:53:10.208354Z",
     "start_time": "2023-06-21T22:53:10.195698Z"
    }
   }
  },
  {
   "cell_type": "code",
   "execution_count": 24,
   "outputs": [
    {
     "data": {
      "text/plain": "(0    5eaf77532b6845665ddefd09\n 1    5eaf89868dc798686228174b\n Name: user_id, dtype: object,\n array(['5eaf77532b6845665ddefd09', '5eaf89868dc798686228174b'],\n       dtype=object))"
     },
     "execution_count": 24,
     "metadata": {},
     "output_type": "execute_result"
    }
   ],
   "source": [
    "survey_list[10][\"user_id\"], transcript[10][\"speaker\"].unique()"
   ],
   "metadata": {
    "collapsed": false,
    "ExecuteTime": {
     "end_time": "2023-06-21T22:53:39.773690Z",
     "start_time": "2023-06-21T22:53:39.767506Z"
    }
   }
  },
  {
   "cell_type": "code",
   "execution_count": 25,
   "outputs": [
    {
     "data": {
      "text/plain": "(0    5987c9f26ab9880001b5b04d\n 1    5f1f2cf5a441a30fa1b79b2d\n Name: user_id, dtype: object,\n array(['5987c9f26ab9880001b5b04d', '5f1f2cf5a441a30fa1b79b2d'],\n       dtype=object))"
     },
     "execution_count": 25,
     "metadata": {},
     "output_type": "execute_result"
    }
   ],
   "source": [
    "survey_list[5][\"user_id\"], transcript[5][\"speaker\"].unique()"
   ],
   "metadata": {
    "collapsed": false,
    "ExecuteTime": {
     "end_time": "2023-06-21T22:53:57.077410Z",
     "start_time": "2023-06-21T22:53:57.073434Z"
    }
   }
  },
  {
   "cell_type": "markdown",
   "source": [
    "no linear relationship between the backchannel count and receiver affect/ arousal change"
   ],
   "metadata": {
    "collapsed": false
   }
  }
 ],
 "metadata": {
  "kernelspec": {
   "display_name": "Python 3",
   "language": "python",
   "name": "python3"
  },
  "language_info": {
   "codemirror_mode": {
    "name": "ipython",
    "version": 2
   },
   "file_extension": ".py",
   "mimetype": "text/x-python",
   "name": "python",
   "nbconvert_exporter": "python",
   "pygments_lexer": "ipython2",
   "version": "2.7.6"
  }
 },
 "nbformat": 4,
 "nbformat_minor": 0
}
